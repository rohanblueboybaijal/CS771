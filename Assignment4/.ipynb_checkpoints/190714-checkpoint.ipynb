{
 "cells": [
  {
   "cell_type": "markdown",
   "metadata": {},
   "source": [
    "Use any additional libraries you want, but if you don't explicitly code stuff that I have explicitly asked you to code, you will not get marks."
   ]
  },
  {
   "cell_type": "markdown",
   "metadata": {},
   "source": [
    "### Q1. Kernel k-means\n",
    "\n",
    "Let's try and end our course on a happy note. The smiley dataset you see below is made up of many clusters of points. "
   ]
  },
  {
   "cell_type": "code",
   "execution_count": 1,
   "metadata": {},
   "outputs": [],
   "source": [
    "import numpy as np\n",
    "import numpy.linalg as lin\n",
    "import numpy.random as rnd\n",
    "from matplotlib import pyplot as plt\n",
    "\n",
    "np.random.seed(0) # For reproducibility\n",
    "\n",
    "def getFigure( sizex = 7, sizey = 7 ):\n",
    "    fig = plt.figure( figsize = (sizex, sizey) )\n",
    "    return fig\n",
    "\n",
    "def plot2D( X, fig, color = 'r', marker = '+', size = 100, empty = False ):\n",
    "    plt.figure( fig.number )\n",
    "    if empty:\n",
    "        plt.scatter( X[:,0], X[:,1], s = size, facecolors = 'none', edgecolors = color, marker = marker  )\n",
    "    else:\n",
    "        plt.scatter( X[:,0], X[:,1], s = size, c = color, marker = marker )\n",
    "\n",
    "\n",
    "def genCrescentData( d, n, mu, r, flipped = False ):\n",
    "    X = np.vstack( (np.cos( np.linspace( 0, np.pi, n ) ), np.sin( np.linspace( 0, np.pi, n ) ) ) ).T\n",
    "    if flipped:\n",
    "        X[:,1] = -np.abs( X[:,1] )\n",
    "    else:\n",
    "        X[:,1] = np.abs( X[:,1] )\n",
    "    X = (X * r) + mu\n",
    "    return X\n",
    "\n",
    "def genSphericalData( d, n, mu, r ):\n",
    "    X = rnd.normal( 0, 1, (n, d) )\n",
    "    norms = lin.norm( X, axis = 1 )\n",
    "    X = X / norms[:, np.newaxis]\n",
    "    X = (X * r) + mu\n",
    "    return X"
   ]
  },
  {
   "cell_type": "code",
   "execution_count": 2,
   "metadata": {},
   "outputs": [],
   "source": [
    "d = 2\n",
    "n = 200\n",
    "\n",
    "mu1 = np.array( [0,0] )\n",
    "mu2 = np.array( [0,1] )\n",
    "mu3 = np.array( [0,0] )\n",
    "mu4 = np.array( [-3,5] )\n",
    "mu5 = np.array( [3,5] )\n",
    "\n",
    "tmp1 = genCrescentData( d, n, mu1, 1 )\n",
    "tmp2 = genCrescentData( d, n, mu2, 5, flipped = True )\n",
    "tmp3 = genSphericalData( d, n, mu3, 10 )\n",
    "tmp4 = genSphericalData( d, n, mu4, 1 )\n",
    "tmp5 = genSphericalData( d, n, mu5, 1 )\n",
    "X = np.vstack( (tmp1, tmp2, tmp3, tmp4, tmp5) )"
   ]
  },
  {
   "cell_type": "code",
   "execution_count": 3,
   "metadata": {},
   "outputs": [
    {
     "data": {
      "image/png": "[encoded data removed]",
      "text/plain": [
       "<Figure size 576x576 with 1 Axes>"
      ]
     },
     "metadata": {
      "needs_background": "light"
     },
     "output_type": "display_data"
    }
   ],
   "source": [
    "fig = getFigure( 8, 8 )\n",
    "plot2D( X, fig, size = 50, color = 'b', marker = 'o' )"
   ]
  },
  {
   "cell_type": "markdown",
   "metadata": {},
   "source": [
    "(a) Can you implement the k-means algorithm to cluster this dataset? Visualize your output. [10 points] \n",
    "\n",
    "(b) Implement k-means++ to initialize cluster centers usefully. [5 points]\n",
    "\n",
    "(c) What value of k gives you the best clustering? Are you happy with the quality of the clustering? [5 points]\n"
   ]
  },
  {
   "cell_type": "markdown",
   "metadata": {},
   "source": [
    "(d) I'm going to say that we want to be able to do better than this. So I want you to kernelize your k-means algorithm with a Gaussian kernel. Visualize the clustering output of your kernel k-means algorithm [15 points]"
   ]
  },
  {
   "cell_type": "code",
   "execution_count": 4,
   "metadata": {},
   "outputs": [
    {
     "name": "stdout",
     "output_type": "stream",
     "text": [
      "The shape of X is (1000, 2)\n"
     ]
    }
   ],
   "source": [
    "print(f'The shape of X is {X.shape}')"
   ]
  },
  {
   "cell_type": "code",
   "execution_count": 5,
   "metadata": {},
   "outputs": [],
   "source": [
    "class KMeans:\n",
    "    def __init__(self, K=1, tol = 1e-6):\n",
    "        self.K = K              # Number of clusters\n",
    "        self.centroids = None    # Means of the K clusters\n",
    "        self.tol = tol           # tolerance value for difference between updated and old means\n",
    "    \n",
    "    def get_kmeans_centroids(self, X):\n",
    "#         print(self.K)\n",
    "        # Choose K data points to be initialised as cluster mean\n",
    "        np.random.seed(5)\n",
    "        random_indices = np.random.choice(X.shape[0], size=self.K, replace=False)\n",
    "        self.centroids = X[random_indices, :]\n",
    "    \n",
    "    # Returns square of euclidean distance\n",
    "    def get_euclidean_distance(self, xn, mu):\n",
    "        d = np.dot(xn-mu, xn-mu)\n",
    "        return d\n",
    "    \n",
    "    # KMeans++ initialization algorithm\n",
    "    def get_kmeans_pp_centroids(self, X):\n",
    "        np.random.seed(0)\n",
    "        N = X.shape[0]\n",
    "        self.centroids = []\n",
    "        \n",
    "        # Choose first centre randomly\n",
    "        i = np.random.randint(low=0, high=N)\n",
    "        self.centroids.append(X[i])\n",
    "\n",
    "        for i in range(self.K-1):\n",
    "            prob = np.zeros(N)\n",
    "            # Find minimum distance to any cluster center\n",
    "            for n in range(N):\n",
    "                min_dist = 10000000\n",
    "                for c in self.centroids:\n",
    "                    d = np.linalg.norm(X[n] - c)\n",
    "                    if d < min_dist:\n",
    "                        min_dist = d\n",
    "                prob[n] = min_dist**2 # proportionality for now ; will normalize later\n",
    "            \n",
    "            prob = prob/np.sum(prob)\n",
    "            choice = np.random.choice(a=1000, size=1, p=prob) # select one data point with given probability\n",
    "            self.centroids.append(X[choice[0]])\n",
    "    \n",
    "        self.centroids = np.array(self.centroids)\n",
    "        \n",
    "    \n",
    "    def vanilla_kmeans(self,X, K=1):\n",
    "        np.random.seed(2)\n",
    "        self.K = K\n",
    "        \n",
    "        '''Assign K data points randomly to be the cluster means'''\n",
    "        self.get_kmeans_centroids(X)\n",
    "        initial_centers = self.centroids.copy()\n",
    "        \n",
    "        # N is the number of training examples\n",
    "        N = X.shape[0]\n",
    "        # zn is the cluster assignment\n",
    "        zn = np.zeros(N, dtype=np.int32)\n",
    "        \n",
    "        # iterskeeps track of total number of iterations\n",
    "        iters = 0\n",
    "        # assignment turns true if any assignment in current iteration does not match the previous one\n",
    "        assignment_change = True\n",
    "        # finds the difference between updated cluster centers and the previious ones\n",
    "        mean_diff = 10000000\n",
    "    \n",
    "        # We use mean_diff and number of iterations as the break condition\n",
    "        while(mean_diff > self.tol and iters < 100):\n",
    "            assignment_change = False\n",
    "            # Loss is the loss normally used in Kmeans\n",
    "            loss = 0\n",
    "            mean_diff = 0.0\n",
    "            \n",
    "            # ASSIGNMENT OF CLUSTERS FOR N DATA POINTS\n",
    "            for n in range(N):\n",
    "                closest_dist = 1000000.0\n",
    "                # Find k such that (x_n - mu_k)^2 is minimized\n",
    "                for k in range(self.K):\n",
    "                    dist = self.get_euclidean_distance(X[n], self.centroids[k])\n",
    "                    if (dist < closest_dist):\n",
    "                        if zn[n] != k:\n",
    "                            assignment_change = True\n",
    "                        closest_dist = dist\n",
    "                        zn[n] = k\n",
    "                # Update loss\n",
    "                loss += closest_dist\n",
    "            \n",
    "            # UPDATE CENTERS\n",
    "            # Keep a copy of the previous means to get a comparison\n",
    "            prev_means = np.copy(self.centroids)\n",
    "            for k in range(self.K):\n",
    "                Nk = 0\n",
    "                S = 0\n",
    "                for n in range(N):\n",
    "                    if zn[n] == k:\n",
    "                        S += X[n,:]\n",
    "                        Nk += 1\n",
    "                self.centroids[k] = S/Nk\n",
    "                mean_diff += self.get_euclidean_distance(prev_means[k], self.centroids[k])\n",
    "            \n",
    "            # Update iteration number\n",
    "            iters += 1\n",
    "                \n",
    "        return initial_centers, self.centroids, zn, loss\n",
    "\n",
    "    # KMeans++ Algorithm : Essentially the same as vanilla KMeans but the initialization is different\n",
    "    def kmeans_pp(self,X, K=1):\n",
    "        np.random.seed(0)\n",
    "        self.K = K\n",
    "        \n",
    "        # Initialize centers using KMeans++\n",
    "        self.get_kmeans_pp_centroids(X)\n",
    "        initial_centers = self.centroids.copy()\n",
    "        \n",
    "        # N is the number of training examples\n",
    "        N = X.shape[0]\n",
    "        # zn is the cluster assignment\n",
    "        zn = np.zeros(N, dtype=np.int32)\n",
    "        \n",
    "        # iterskeeps track of total number of iterations\n",
    "        iters = 0\n",
    "        # assignment turns true if any assignment in current iteration does not match the previous one\n",
    "        assignment_change = True\n",
    "        # finds the difference between updated cluster centers and the previious ones\n",
    "        mean_diff = 10000000\n",
    "        \n",
    "        # We use mean_diff and number of iterations as the break condition\n",
    "        while(mean_diff > self.tol and iters < 100):\n",
    "            assignment_change = False\n",
    "            # Loss is the loss normally used in Kmeans\n",
    "            loss = 0\n",
    "            mean_diff = 0.0\n",
    "            \n",
    "            # ASSIGNMENT OF CLUSTERS FOR N DATA POINTS\n",
    "            for n in range(N):\n",
    "                closest_dist = 1000000.0\n",
    "                # Find k such that (x_n - mu_k)^2 is minimized\n",
    "                for k in range(self.K):\n",
    "                    dist = self.get_euclidean_distance(X[n], self.centroids[k])\n",
    "                    if (dist < closest_dist):\n",
    "                        if zn[n] != k:\n",
    "                            assignment_change = True\n",
    "                        closest_dist = dist\n",
    "                        zn[n] = k\n",
    "                # Update loss\n",
    "                loss += closest_dist\n",
    "            \n",
    "            # UPDATE CENTERS\n",
    "            # Keep a copy of the previous means to get a comparison\n",
    "            prev_means = np.copy(self.centroids)\n",
    "            for k in range(self.K):\n",
    "                Nk = 0\n",
    "                S = 0\n",
    "                for n in range(N):\n",
    "                    if zn[n] == k:\n",
    "                        S += X[n,:]\n",
    "                        Nk += 1\n",
    "                if Nk == 0:\n",
    "                    self.centroids[k] = np.array([15,15])\n",
    "                    continue\n",
    "                self.centroids[k] = S/Nk\n",
    "                mean_diff += self.get_euclidean_distance(prev_means[k], self.centroids[k])\n",
    "            \n",
    "            # Update iteration number\n",
    "            iters += 1\n",
    "            \n",
    "        return initial_centers, self.centroids, zn, loss"
   ]
  },
  {
   "cell_type": "code",
   "execution_count": 6,
   "metadata": {},
   "outputs": [],
   "source": [
    "kmeans_classifier = KMeans()"
   ]
  },
  {
   "cell_type": "code",
   "execution_count": 7,
   "metadata": {},
   "outputs": [
    {
     "name": "stdout",
     "output_type": "stream",
     "text": [
      "Trying KMeans with 1 clusters\n",
      "Trying KMeans with 2 clusters\n",
      "Trying KMeans with 3 clusters\n",
      "Trying KMeans with 4 clusters\n",
      "Trying KMeans with 5 clusters\n",
      "Trying KMeans with 6 clusters\n",
      "Trying KMeans with 7 clusters\n",
      "Trying KMeans with 8 clusters\n",
      "Trying KMeans with 9 clusters\n",
      "Trying KMeans with 10 clusters\n",
      "Trying KMeans with 11 clusters\n",
      "Trying KMeans with 12 clusters\n",
      "Trying KMeans with 13 clusters\n",
      "Trying KMeans with 14 clusters\n"
     ]
    }
   ],
   "source": [
    "lh = []\n",
    "for k in range(1,15):\n",
    "    print(f'Trying KMeans with {k} clusters')\n",
    "    init_means, means, zn, loss = kmeans_classifier.vanilla_kmeans(X,k)\n",
    "    lh.append(loss)"
   ]
  },
  {
   "cell_type": "code",
   "execution_count": 8,
   "metadata": {},
   "outputs": [
    {
     "data": {
      "text/plain": [
       "<matplotlib.legend.Legend at 0x7fdf4a450400>"
      ]
     },
     "execution_count": 8,
     "metadata": {},
     "output_type": "execute_result"
    },
    {
     "data": {
      "image/png": "[encoded data removed]",
      "text/plain": [
       "<Figure size 432x288 with 1 Axes>"
      ]
     },
     "metadata": {
      "needs_background": "light"
     },
     "output_type": "display_data"
    }
   ],
   "source": [
    "# Plot the loss\n",
    "plt.plot(range(1,15),lh, label=\"loss\")\n",
    "for i in range(1,15):\n",
    "    # Plot the AIC\n",
    "    plt.scatter(i, lh[i-1], marker = \">\", c=\"black\")\n",
    "    plt.scatter(i, 2*lh[i-1] + i*2)\n",
    "plt.legend()"
   ]
  },
  {
   "cell_type": "markdown",
   "metadata": {},
   "source": [
    "Using AIC $k=6$ seems to be the elbow point and that is what we use for visualization"
   ]
  },
  {
   "cell_type": "code",
   "execution_count": 9,
   "metadata": {},
   "outputs": [],
   "source": [
    "K = 6\n",
    "init_means, means, zn, loss = kmeans_classifier.vanilla_kmeans(X,K)"
   ]
  },
  {
   "cell_type": "code",
   "execution_count": 10,
   "metadata": {},
   "outputs": [
    {
     "data": {
      "text/plain": [
       "array([[ 3.61130391e+00,  5.31824149e+00],\n",
       "       [-5.99228443e+00, -7.02447976e+00],\n",
       "       [-3.55682490e+00, -2.06789954e+00],\n",
       "       [-2.22044605e-18,  6.33423518e-01],\n",
       "       [ 4.57041809e+00, -3.16384527e+00],\n",
       "       [-3.70003556e+00,  5.32143874e+00]])"
      ]
     },
     "execution_count": 10,
     "metadata": {},
     "output_type": "execute_result"
    }
   ],
   "source": [
    "means"
   ]
  },
  {
   "cell_type": "code",
   "execution_count": 11,
   "metadata": {},
   "outputs": [
    {
     "data": {
      "text/plain": [
       "array([[ 4.68208673,  8.83617926],\n",
       "       [-9.44908984, -3.27333183],\n",
       "       [-0.99551728,  0.09457981],\n",
       "       [ 0.98495967,  0.17278439],\n",
       "       [ 1.59005768, -3.74043422],\n",
       "       [-3.72129051,  4.30736734]])"
      ]
     },
     "execution_count": 11,
     "metadata": {},
     "output_type": "execute_result"
    }
   ],
   "source": [
    "init_means"
   ]
  },
  {
   "cell_type": "code",
   "execution_count": 12,
   "metadata": {},
   "outputs": [
    {
     "data": {
      "text/plain": [
       "6870.789116144849"
      ]
     },
     "execution_count": 12,
     "metadata": {},
     "output_type": "execute_result"
    }
   ],
   "source": [
    "loss"
   ]
  },
  {
   "cell_type": "code",
   "execution_count": 13,
   "metadata": {},
   "outputs": [
    {
     "data": {
      "image/png": "[encoded data removed]",
      "text/plain": [
       "<Figure size 432x288 with 1 Axes>"
      ]
     },
     "metadata": {
      "needs_background": "light"
     },
     "output_type": "display_data"
    }
   ],
   "source": [
    "colors = []\n",
    "\n",
    "for i in range(K):\n",
    "    plt.scatter(X[zn == i, 0], X[zn == i, 1], label = i)\n",
    "    plt.scatter(means[i,0], means[i,1], marker='>', c=\"black\") # Final means\n",
    "    plt.scatter(init_means[i,0], init_means[i,1], marker=\"<\", c=\"yellow\") # Initial means\n",
    "plt.legend()\n",
    "plt.show()"
   ]
  },
  {
   "cell_type": "code",
   "execution_count": 14,
   "metadata": {},
   "outputs": [
    {
     "name": "stdout",
     "output_type": "stream",
     "text": [
      "Trying KMeans with 1 clusters\n",
      "Trying KMeans with 2 clusters\n",
      "Trying KMeans with 3 clusters\n",
      "Trying KMeans with 4 clusters\n",
      "Trying KMeans with 5 clusters\n",
      "Trying KMeans with 6 clusters\n",
      "Trying KMeans with 7 clusters\n",
      "Trying KMeans with 8 clusters\n",
      "Trying KMeans with 9 clusters\n",
      "Trying KMeans with 10 clusters\n",
      "Trying KMeans with 11 clusters\n",
      "Trying KMeans with 12 clusters\n",
      "Trying KMeans with 13 clusters\n",
      "Trying KMeans with 14 clusters\n",
      "Trying KMeans with 15 clusters\n"
     ]
    }
   ],
   "source": [
    "lh = []\n",
    "for k in range(1,16):\n",
    "    print(f'Trying KMeans with {k} clusters')\n",
    "    init_means, means, zn, loss = kmeans_classifier.kmeans_pp(X,k)\n",
    "    lh.append(loss)"
   ]
  },
  {
   "cell_type": "code",
   "execution_count": 15,
   "metadata": {},
   "outputs": [
    {
     "data": {
      "text/plain": [
       "<matplotlib.legend.Legend at 0x7fdf4a292048>"
      ]
     },
     "execution_count": 15,
     "metadata": {},
     "output_type": "execute_result"
    },
    {
     "data": {
      "image/png": "[encoded data removed]",
      "text/plain": [
       "<Figure size 432x288 with 1 Axes>"
      ]
     },
     "metadata": {
      "needs_background": "light"
     },
     "output_type": "display_data"
    }
   ],
   "source": [
    "# Plot the loss\n",
    "plt.plot(range(1,16),lh, label=\"loss\")\n",
    "for i in range(1,16):\n",
    "    # Plot the AIC\n",
    "    plt.scatter(i, lh[i-1], marker = \">\", c=\"black\")\n",
    "    plt.scatter(i, 2*lh[i-1] + i*2)\n",
    "plt.legend()"
   ]
  },
  {
   "cell_type": "code",
   "execution_count": 16,
   "metadata": {},
   "outputs": [],
   "source": [
    "K = 6\n",
    "init_means, means, zn, loss = kmeans_classifier.kmeans_pp(X,K)"
   ]
  },
  {
   "cell_type": "code",
   "execution_count": 17,
   "metadata": {},
   "outputs": [
    {
     "data": {
      "text/plain": [
       "array([[-3.42781775,  5.44923498],\n",
       "       [ 9.16486433, -1.92651364],\n",
       "       [-0.3194197 , -5.76360139],\n",
       "       [ 1.03263888,  0.14258807],\n",
       "       [ 3.40543503,  5.40610593],\n",
       "       [-6.33581918, -1.64385213]])"
      ]
     },
     "execution_count": 17,
     "metadata": {},
     "output_type": "execute_result"
    }
   ],
   "source": [
    "means"
   ]
  },
  {
   "cell_type": "code",
   "execution_count": 18,
   "metadata": {},
   "outputs": [
    {
     "data": {
      "text/plain": [
       "6757.241050084609"
      ]
     },
     "execution_count": 18,
     "metadata": {},
     "output_type": "execute_result"
    }
   ],
   "source": [
    "loss"
   ]
  },
  {
   "cell_type": "code",
   "execution_count": 19,
   "metadata": {},
   "outputs": [
    {
     "data": {
      "image/png": "[encoded data removed]",
      "text/plain": [
       "<Figure size 432x288 with 1 Axes>"
      ]
     },
     "metadata": {
      "needs_background": "light"
     },
     "output_type": "display_data"
    }
   ],
   "source": [
    "colors = []\n",
    "\n",
    "for i in range(K):\n",
    "    plt.scatter(X[zn == i, 0], X[zn == i, 1], label = i)\n",
    "    plt.scatter(means[i,0], means[i,1], marker='>', c=\"black\") # Final means\n",
    "    plt.scatter(init_means[i,0], init_means[i,1], marker=\"<\", c=\"yellow\") # Initial means\n",
    "plt.legend()\n",
    "plt.show()"
   ]
  },
  {
   "cell_type": "markdown",
   "metadata": {},
   "source": [
    "### c) \n",
    "Using AIC, the value of 6 seems to be a good clustering number for both KMeans and KMeans++. \n",
    "However, visually we can see that 5 should be an ideal cluster number. Hence, KMeans with Euclidean Distance is not able to learn the clusters well.  \n",
    "\n",
    "Also the initial KMeans++ centers were better distributed"
   ]
  },
  {
   "cell_type": "markdown",
   "metadata": {},
   "source": [
    "## Kernel K Means :\n",
    "The objective function is $\\mathcal{L} = (\\phi(x_n) - \\phi(\\mu_k))^T (\\phi(x_n) - \\phi(\\mu_k)) = k(\\mu_k, \\mu_k) + k(x_n, x_n) -2k(\\mu_k, x_n)$  \n",
    "\n",
    "Here $\\mu_k = \\frac{1}{|C_k|} \\sum_{n : C_k} \\phi(x_n)$  \n",
    "$k(x_n, x_n) = e^{0} = 1$  \n",
    "$k(\\mu_k, \\mu_k) = \\frac{1}{|C_k| ^2} \\sum_{i : C_k} \\sum_{j : C_k} k(x_i, x_j)$  \n",
    "$k(\\mu_k, x_n) = \\frac{1}{|C_k|} \\sum_{i:C_k} k(x_i, x_n)$ : We need to maximize this value"
   ]
  },
  {
   "cell_type": "code",
   "execution_count": 20,
   "metadata": {},
   "outputs": [],
   "source": [
    "class KernelKmeans:\n",
    "    def __init__(self, K=1, gamma = 1, max_iter=40, tol = 0):\n",
    "        self.K = K              # Number of clusters\n",
    "        self.centroids = None    # Means of the K clusters\n",
    "        self.tol = tol           # tolerance value for difference between updated and old means\n",
    "        self.gamma = gamma\n",
    "        self.max_iter = max_iter\n",
    "    \n",
    "    def get_kmeans_pp_centroids(self, X):\n",
    "        np.random.seed(3)\n",
    "        N = X.shape[0]\n",
    "        self.centroids = []\n",
    "        i = np.random.randint(low=0, high=N)\n",
    "        self.centroids.append(X[i])\n",
    "\n",
    "        for i in range(self.K-1):\n",
    "            prob = np.zeros(N)\n",
    "            for n in range(N):\n",
    "                min_dist = 1000000\n",
    "                for c in self.centroids:\n",
    "                    d = np.linalg.norm(X[n] - c)\n",
    "                    if d < min_dist:\n",
    "                        min_dist = d\n",
    "                prob[n] = min_dist**2\n",
    "            prob = prob/np.sum(prob)\n",
    "            choice = np.random.choice(a=1000, size=1, p=prob)\n",
    "            self.centroids.append(X[choice[0]])\n",
    "        self.centroids = np.array(self.centroids)\n",
    "    \n",
    "    # Computing the kernel value\n",
    "    def gaussian_kernel(self, xi, xj):\n",
    "        dij = np.linalg.norm(xi - xj)\n",
    "        return np.exp(-self.gamma * dij**2)\n",
    "        \n",
    "    # Computing the kernel matrix\n",
    "    def compute_gram_matrix(self, X):\n",
    "        N = X.shape[0]\n",
    "        self.kernel_matrix = np.zeros((N,N))\n",
    "        \n",
    "        for i in range(N):\n",
    "            j = i\n",
    "            while j < N:\n",
    "                self.kernel_matrix[i][j] = self.gaussian_kernel(X[i], X[j])\n",
    "                self.kernel_matrix[j][i] = self.kernel_matrix[i][j] # kernel is symmetric\n",
    "                j+=1\n",
    "                          \n",
    "    \n",
    "    def kernel_kmeans(self, X, K=1):\n",
    "        np.random.seed(1)\n",
    "        self.K = K\n",
    "        \n",
    "        # Initialize centers using KMeans++\n",
    "        self.get_kmeans_pp_centroids(X)\n",
    "        \n",
    "        # N is the number of training examples\n",
    "        N = X.shape[0]\n",
    "        # zn is the cluster assignment\n",
    "        zn = np.zeros(N, dtype=np.int32)\n",
    "        \n",
    "        # Initial Assignment of clusters\n",
    "        for n in range(N):\n",
    "            closest_dist = 1000000.0\n",
    "            # Find k such that (x_n - mu_k) is minimized\n",
    "            for k in range(self.K):\n",
    "                dist = np.linalg.norm(X[n] - self.centroids[k])\n",
    "                if (dist < closest_dist):\n",
    "                    closest_dist = dist\n",
    "                    zn[n] = k\n",
    "                \n",
    "        # iterskeeps track of total number of iterations\n",
    "        iters = 0\n",
    "        # assignment turns true if any assignment in current iteration does not match the previous one\n",
    "        assignment_change = True\n",
    "        # finds the difference between updated cluster centers and the previious ones\n",
    "        diff = 10000000\n",
    "        \n",
    "        # Compute the gram/kernel matrix\n",
    "        self.compute_gram_matrix(X)\n",
    "        \n",
    "        while(iters < self.max_iter and diff > self.tol):\n",
    "            old_zn = zn.copy()\n",
    "            \n",
    "            Kmu_mu = np.zeros(self.K)\n",
    "            Ck = np.zeros(N, dtype=np.int32)\n",
    "            for i in range(N):\n",
    "                Ck[zn[i]] += 1\n",
    "            \n",
    "            # compute k(mu_k, mu_k)\n",
    "            for k in range(self.K):\n",
    "                S = 0\n",
    "                # If no data point belongs to a cluster then we just let it be\n",
    "                if not Ck[k]:\n",
    "                    continue\n",
    "                for i in range(N):\n",
    "                    if zn[i] == k:\n",
    "                        for j in range(N):\n",
    "                            if zn[j] == k:\n",
    "                                S += self.kernel_matrix[i][j]\n",
    "                Kmu_mu[k] = S / (Ck[k]**2)  \n",
    "                        \n",
    "            # Update cluster assignments            \n",
    "            for n in range(N):\n",
    "                min_loss = 10000000\n",
    "                for k in range(self.K):\n",
    "                    if not Ck[k]:\n",
    "                        continue\n",
    "                    S = 0.0\n",
    "                    for i in range(N):\n",
    "                        if (zn[i] == k):\n",
    "                            S += self.kernel_matrix[n][i]\n",
    "                    S = S / Ck[k]\n",
    "                    # Objective function as calculated above\n",
    "                    obj = self.kernel_matrix[n][n] + Kmu_mu[k] - 2*S\n",
    "                    if obj < min_loss:\n",
    "                        min_loss = obj\n",
    "                        zn[n] = k\n",
    "            \n",
    "            same = np.sum(zn == old_zn)\n",
    "            diff = N - same\n",
    "            print(diff)\n",
    "            iters += 1\n",
    "        \n",
    "        print(f'The algorithm exited the loop after {iters} iterations')\n",
    "        return zn  "
   ]
  },
  {
   "cell_type": "markdown",
   "metadata": {},
   "source": [
    "### Choosing K = 5\n",
    "We choose K = 5 out of visual intution.  \n",
    "1 face, 2 eyes, 1 nose, 1 smile. \n",
    "After tuning of the hyperparameter $\\gamma$, we arrive at a value of around 0.075."
   ]
  },
  {
   "cell_type": "code",
   "execution_count": 21,
   "metadata": {},
   "outputs": [
    {
     "name": "stdout",
     "output_type": "stream",
     "text": [
      "151\n",
      "42\n",
      "10\n",
      "13\n",
      "12\n",
      "9\n",
      "27\n",
      "26\n",
      "38\n",
      "9\n",
      "0\n",
      "The algorithm exited the loop after 11 iterations\n"
     ]
    }
   ],
   "source": [
    "K = 5\n",
    "kernel_kmeans_classifier = KernelKmeans(K=K, gamma=0.075)\n",
    "zn = kernel_kmeans_classifier.kernel_kmeans(X,K)"
   ]
  },
  {
   "cell_type": "code",
   "execution_count": 22,
   "metadata": {},
   "outputs": [
    {
     "data": {
      "image/png": "[encoded data removed]",
      "text/plain": [
       "<Figure size 432x288 with 1 Axes>"
      ]
     },
     "metadata": {
      "needs_background": "light"
     },
     "output_type": "display_data"
    }
   ],
   "source": [
    "for i in range(K):\n",
    "    plt.scatter(X[zn == i, 0], X[zn == i, 1], label = i)\n",
    "#     plt.scatter(means[i,0], means[i,1], marker='>', c=\"black\")\n",
    "plt.legend()\n",
    "plt.show()"
   ]
  },
  {
   "cell_type": "markdown",
   "metadata": {},
   "source": [
    "Multiple values of $\\gamma$ gave good results\n",
    "Ex. $\\gamma = 0.1$  "
   ]
  },
  {
   "cell_type": "code",
   "execution_count": 23,
   "metadata": {},
   "outputs": [
    {
     "name": "stdout",
     "output_type": "stream",
     "text": [
      "171\n",
      "28\n",
      "6\n",
      "10\n",
      "11\n",
      "11\n",
      "17\n",
      "19\n",
      "37\n",
      "24\n",
      "0\n",
      "The algorithm exited the loop after 11 iterations\n"
     ]
    }
   ],
   "source": [
    "K = 5\n",
    "kernel_kmeans_classifier = KernelKmeans(K=K, gamma=0.1)\n",
    "zn = kernel_kmeans_classifier.kernel_kmeans(X,K)"
   ]
  },
  {
   "cell_type": "code",
   "execution_count": 24,
   "metadata": {},
   "outputs": [
    {
     "data": {
      "image/png": "[encoded data removed]",
      "text/plain": [
       "<Figure size 432x288 with 1 Axes>"
      ]
     },
     "metadata": {
      "needs_background": "light"
     },
     "output_type": "display_data"
    }
   ],
   "source": [
    "for i in range(K):\n",
    "    plt.scatter(X[zn == i, 0], X[zn == i, 1], label = i)\n",
    "#     plt.scatter(means[i,0], means[i,1], marker='>', c=\"black\")\n",
    "plt.legend()\n",
    "plt.show()"
   ]
  },
  {
   "cell_type": "markdown",
   "metadata": {},
   "source": [
    "$\\gamma = 1$ gave very fast convergence but failed to capture the clusters properly. The face and smile haven't be assigned properly"
   ]
  },
  {
   "cell_type": "code",
   "execution_count": 25,
   "metadata": {},
   "outputs": [
    {
     "name": "stdout",
     "output_type": "stream",
     "text": [
      "185\n",
      "1\n",
      "0\n",
      "The algorithm exited the loop after 3 iterations\n"
     ]
    }
   ],
   "source": [
    "K = 5\n",
    "kernel_kmeans_classifier = KernelKmeans(K=K, gamma=1)\n",
    "zn = kernel_kmeans_classifier.kernel_kmeans(X,K)"
   ]
  },
  {
   "cell_type": "code",
   "execution_count": 26,
   "metadata": {},
   "outputs": [
    {
     "data": {
      "image/png": "[encoded data removed]",
      "text/plain": [
       "<Figure size 432x288 with 1 Axes>"
      ]
     },
     "metadata": {
      "needs_background": "light"
     },
     "output_type": "display_data"
    }
   ],
   "source": [
    "for i in range(K):\n",
    "    plt.scatter(X[zn == i, 0], X[zn == i, 1], label = i)\n",
    "#     plt.scatter(means[i,0], means[i,1], marker='>', c=\"black\")\n",
    "plt.legend()\n",
    "plt.show()"
   ]
  },
  {
   "cell_type": "markdown",
   "metadata": {},
   "source": [
    "The other values of $\\gamma$ generally failed to capture the 5 clusters properly in less iterations.  \n",
    "Ex. $\\gamma = 5$  \n",
    "\n",
    "As we can see, it fails to capture all the clusters properly, in particular, the face and smile is clustered together."
   ]
  },
  {
   "cell_type": "code",
   "execution_count": 27,
   "metadata": {},
   "outputs": [
    {
     "name": "stdout",
     "output_type": "stream",
     "text": [
      "186\n",
      "8\n",
      "4\n",
      "3\n",
      "0\n",
      "The algorithm exited the loop after 5 iterations\n"
     ]
    }
   ],
   "source": [
    "K = 5\n",
    "kernel_kmeans_classifier = KernelKmeans(K=K, gamma=5)\n",
    "zn = kernel_kmeans_classifier.kernel_kmeans(X,K)"
   ]
  },
  {
   "cell_type": "code",
   "execution_count": 28,
   "metadata": {},
   "outputs": [
    {
     "data": {
      "image/png": "[encoded data removed]",
      "text/plain": [
       "<Figure size 432x288 with 1 Axes>"
      ]
     },
     "metadata": {
      "needs_background": "light"
     },
     "output_type": "display_data"
    }
   ],
   "source": [
    "for i in range(K):\n",
    "    plt.scatter(X[zn == i, 0], X[zn == i, 1], label = i)\n",
    "#     plt.scatter(means[i,0], means[i,1], marker='>', c=\"black\")\n",
    "plt.legend()\n",
    "plt.show()"
   ]
  },
  {
   "cell_type": "markdown",
   "metadata": {},
   "source": [
    "### Q2. Expectation-Maximization"
   ]
  },
  {
   "cell_type": "markdown",
   "metadata": {},
   "source": [
    "We saw how to use EM to learn parameters for Gaussian mixture models last week. Specifically, for a GMM described by the set of parameters $\\{\\pi_k, \\mu_k, \\Sigma_k \\}_{k=1}^K$, we saw that the E-step boils down to figuring out the expected assignment of clusters based on a responsibility judgment proportional to $\\pi_k~N(\\mu_k, \\Sigma_k)$, given curent parameter estimates, followed by using GDA MLE updates assuming the current expected assignment in the M-step to update parameter values."
   ]
  },
  {
   "cell_type": "markdown",
   "metadata": {},
   "source": [
    "(a) Can you derive the E-step and M-step for an EM algorithm that would work for a Gaussian mixture model wherein the mixture weights $\\pi_k$ are known, and the covariances are restricted to be spherical, i.e. $\\Sigma_k = \\sigma^2_k I$? [20 points]"
   ]
  },
  {
   "cell_type": "markdown",
   "metadata": {},
   "source": [
    "(b) Implement this algorithm and show that it works on synthetic data with 3 clusters. If you are unable to derive the EM algorithm for part (a), implement the EM algorithm I showed in the class slides for the standard GMM (5 point penalty for taking this option) [15 points]. "
   ]
  },
  {
   "cell_type": "markdown",
   "metadata": {},
   "source": [
    "## a) Derivation\n",
    "Let $\\theta$ denote the parameters for the EM algorithm : $\\{\\pi_k, \\mu_k, \\Sigma_k \\}_{k=1}^K$   \n",
    "Using the expression from the lectures, we know that we make updates by trying to solve the following : \n",
    "\n",
    "$\\hat{\\theta} = \\text{argmax}_{\\theta} \\sum_{n=1}^N \\sum_{k=1}^K \\text{E}[z_{nk}] [\\log \\pi_k + \\log \\mathcal{N}(x_n \\mid, \\mu_k, \\sum_k)]$  \n",
    "\n",
    "We know that $\\text{E}[z_{nk}] = \\frac{\\pi_k \\mathcal{N}(x_n \\mid \\mu_k, \\sum_k)}{\\sum_{l=1}^K \\pi_l \\mathcal{N} (x_n \\mid \\mu_l, \\sum_l)} = \\gamma_{nk}$ (say)  \n",
    "\n",
    "The update for $\\mu_k$ remains the same. \n",
    "The only change will be in the update of $\\sigma_k^2$  \n",
    "\n",
    "Hence, $\\mu_k^{(t)} = \\frac{1}{N_k} \\sum_{n=1}^N \\gamma_{nk}^{(t)} x_n$  \n",
    "And, $(\\sigma_k^{(t)})^2 = \\frac{\\sum_{n=1}^N \\gamma_{nk}^{(t)} (x_n - \\mu_k^{(t)})^T(x_n - \\mu_k^{(t)})}{D \\sum_{n=1}^N \\gamma_{nk}^{(t)}}$\n",
    "\n",
    "## Derivation for $\\sigma_k^2$  \n",
    "Consider $\\hat{\\theta} = \\text{argmax}_{\\theta} \\sum_{n=1}^N \\sum_{k=1}^K \\text{E}[z_{nk}] [\\log \\pi_k + \\log \\mathcal{N}(x_n \\mid, \\mu_k, \\sum_k)]$    \n",
    "\n",
    "Let the function be termed $\\mathcal{L} = \\sum_{n=1}^N \\sum_{k=1}^K \\text{E}[z_{nk}] [\\log \\pi_k + \\log \\frac{1}{\\sqrt{(2 \\pi)^D |\\sum_k|}} e^{(\\frac{-1}{2} (x_n - \\mu_k)^T \\sum_k^{-1} (x_n - \\mu_k)} ]$  \n",
    "Notice that $\\sum_k^{-1} = \\frac{1}{\\sigma_k^2}I_D$  \n",
    "So $\\mathcal{L} = \\sum_{n=1}^N \\sum_{k=1}^K \\text{E}[z_{nk}] [\\log \\pi_k + \\log \\frac{1}{\\sqrt{2 \\pi \\sigma_k^{2D}}} -\\frac{1}{2\\sigma_k^2} (x_n - \\mu_k)^T (x_n - \\mu_k)]$  \n",
    "$\\frac{\\partial \\mathcal{L}}{\\partial \\sigma_{k}^2} = \\sum_{n=1}^N \\text{E}[z_{nk}] [\\frac{-1}{2 \\sigma_k^2} D (\\sigma_k^2)^{D-1} + \\frac{1}{2 (\\sigma_k^2)^2} (x_n - \\mu_k)^T (x_n - \\mu_k)] = 0$  \n",
    "Hence, $(\\sigma_k)^2 = \\frac{\\sum_{n=1}^N \\gamma_{nk} (x_n - \\mu_k)^T(x_n - \\mu_k)}{D \\sum_{n=1}^N \\gamma_{nk}}$"
   ]
  },
  {
   "cell_type": "code",
   "execution_count": 29,
   "metadata": {},
   "outputs": [],
   "source": [
    "## Custom function that generates the three clusters \n",
    "def generate_data():\n",
    "    \n",
    "    N = 1000 ## Total number of points\n",
    "    sigma = np.array([0.5, 0.8, 1]) ## Sigma_k values for the clusters\n",
    "    means = np.array([[7,10], [-5,4], [0,-7]]) ## Means of the clusters\n",
    "    pi = np.array([0.35, 0.5, 0.15]) ## Probabilities associated with clusters\n",
    "    \n",
    "    ## Preparing the covariance matrix\n",
    "    covs = [(sigma[0]*sigma[0])*np.identity(2), (sigma[1]*sigma[1])*np.identity(2), (sigma[2]*sigma[2])*np.identity(2)]\n",
    "    \n",
    "    ## Choosing points to go in clusters according to pi probabilities\n",
    "    indices = np.random.choice(np.arange(3), N, p = pi)\n",
    "    \n",
    "    ## Generating random draws from multivariate normals for dataset \n",
    "    X = np.zeros([N,2])\n",
    "    for i in range(N):\n",
    "        X[i] = np.random.multivariate_normal(means[indices[i]], covs[indices[i]])\n",
    "    \n",
    "    plt.scatter(X[:,0], X[:,1], c = 'b')\n",
    "    return X, means, pi, sigma"
   ]
  },
  {
   "cell_type": "code",
   "execution_count": 30,
   "metadata": {},
   "outputs": [
    {
     "data": {
      "image/png": "[encoded data removed]",
      "text/plain": [
       "<Figure size 432x288 with 1 Axes>"
      ]
     },
     "metadata": {
      "needs_background": "light"
     },
     "output_type": "display_data"
    }
   ],
   "source": [
    "np.random.seed(20)\n",
    "X_em, means, pi, sigma = generate_data()"
   ]
  },
  {
   "cell_type": "code",
   "execution_count": 31,
   "metadata": {},
   "outputs": [],
   "source": [
    "from scipy.stats import multivariate_normal"
   ]
  },
  {
   "cell_type": "code",
   "execution_count": 32,
   "metadata": {},
   "outputs": [],
   "source": [
    "def Expectation_Maximization(X, pi, mu, sigma):\n",
    "    # NOTE : sigma here actually contains sigma^2, ie. the variance\n",
    "    # Parameters for EM algorithm\n",
    "    K = pi.shape[0]\n",
    "    N = X.shape[0]\n",
    "    tol = 1e-7\n",
    "    max_iters = 20\n",
    "    mean_diff = 1000\n",
    "    iters = 0\n",
    "    \n",
    "    plt.scatter(X[:,0], X[:,1], c = 'b')\n",
    "    \n",
    "    while (iters < max_iters and mean_diff > tol):\n",
    "        # Store old paramters for comparison\n",
    "        old_mu = mu.copy()\n",
    "        old_sigma = sigma.copy()\n",
    "        \n",
    "        # Do E-step\n",
    "        E = np.zeros((N,K))\n",
    "        \n",
    "        # Expectation step\n",
    "        for n in range(N):\n",
    "            for k in range(K):\n",
    "                E[n,k] = pi[k] * multivariate_normal.pdf(x=X[n], mean=mu[k], cov=sigma[k]*np.identity(2))\n",
    "            E[n,:] = E[n,:] / np.sum(E[n, :])\n",
    "                \n",
    "        # Do M-step\n",
    "        new_mu = np.zeros((K,2))\n",
    "        new_sigma = np.zeros(K)\n",
    "        \n",
    "        # Update mu and sigma\n",
    "        for k in range(K):\n",
    "            for n in range(N):\n",
    "                new_mu[k] += E[n,k]*X[n]\n",
    "                new_sigma[k] += E[n,k] * ((X[n]-mu[k]).T @ (X[n] - mu[k]))\n",
    "            \n",
    "            Nk = np.sum(E[:,k])\n",
    "            new_mu[k] = new_mu[k] / Nk\n",
    "            new_sigma[k] = new_sigma[k]/(2*Nk)\n",
    "        \n",
    "        # Check difference for tolerance\n",
    "        mean_diff = np.linalg.norm(new_mu - old_mu) + np.linalg.norm(new_sigma - old_sigma)\n",
    "        mu = new_mu\n",
    "        sigma = new_sigma\n",
    "        iters+=1\n",
    "        print(mean_diff)\n",
    "        \n",
    "        # Helps to visualize the path of mu during iterations of EM algo\n",
    "        plt.scatter(mu[0][0], mu[0][1], marker=\"x\")\n",
    "        plt.scatter(mu[1][0], mu[1][1], marker=\">\")\n",
    "        plt.scatter(mu[2][0], mu[2][1], marker=\"*\")\n",
    "    \n",
    "    plt.show()\n",
    "    return mu, sigma"
   ]
  },
  {
   "cell_type": "code",
   "execution_count": 33,
   "metadata": {},
   "outputs": [],
   "source": [
    "mu_0 = np.array([np.mean(X_em[:,0]), np.mean(X_em[:,1])])\n",
    "init_mu = np.array([[mu_0[0], mu_0[1]], \n",
    "                    [mu_0[0], mu_0[1]],\n",
    "                    [mu_0[0], mu_0[1]]])\n",
    "\n",
    "var = np.var(X)\n",
    "init_var = np.array([var, var, var])"
   ]
  },
  {
   "cell_type": "code",
   "execution_count": 34,
   "metadata": {},
   "outputs": [],
   "source": [
    "for k in range(3):\n",
    "    init_mu[k] += np.random.multivariate_normal([0,0], np.identity(2))"
   ]
  },
  {
   "cell_type": "code",
   "execution_count": 35,
   "metadata": {},
   "outputs": [
    {
     "name": "stdout",
     "output_type": "stream",
     "text": [
      "21.977209102888168\n",
      "6.212246210213465\n",
      "9.028930477856537\n",
      "13.652085504313057\n",
      "13.654547182878527\n",
      "7.950873949748189\n",
      "15.230814101380176\n",
      "16.093352688062847\n",
      "2.621562581966723\n",
      "0.010488418813785889\n",
      "1.0833329460112301e-11\n"
     ]
    },
    {
     "data": {
      "image/png": "[encoded data removed]",
      "text/plain": [
       "<Figure size 432x288 with 1 Axes>"
      ]
     },
     "metadata": {
      "needs_background": "light"
     },
     "output_type": "display_data"
    }
   ],
   "source": [
    "mu, sigma = Expectation_Maximization(X_em, pi, init_mu, init_var)"
   ]
  },
  {
   "cell_type": "code",
   "execution_count": 36,
   "metadata": {},
   "outputs": [
    {
     "data": {
      "text/plain": [
       "array([[ 7.01358799,  9.98774688],\n",
       "       [-4.951721  ,  4.05562026],\n",
       "       [-0.08053866, -7.11441742]])"
      ]
     },
     "execution_count": 36,
     "metadata": {},
     "output_type": "execute_result"
    }
   ],
   "source": [
    "mu"
   ]
  },
  {
   "cell_type": "code",
   "execution_count": 37,
   "metadata": {},
   "outputs": [
    {
     "data": {
      "text/plain": [
       "array([0.35, 0.5 , 0.15])"
      ]
     },
     "execution_count": 37,
     "metadata": {},
     "output_type": "execute_result"
    }
   ],
   "source": [
    "pi"
   ]
  },
  {
   "cell_type": "code",
   "execution_count": 38,
   "metadata": {},
   "outputs": [
    {
     "data": {
      "text/plain": [
       "array([0.24633382, 0.62953437, 0.96861292])"
      ]
     },
     "execution_count": 38,
     "metadata": {},
     "output_type": "execute_result"
    }
   ],
   "source": [
    "sigma"
   ]
  },
  {
   "cell_type": "code",
   "execution_count": 39,
   "metadata": {},
   "outputs": [
    {
     "data": {
      "image/png": "[encoded data removed]",
      "text/plain": [
       "<Figure size 432x288 with 1 Axes>"
      ]
     },
     "metadata": {
      "needs_background": "light"
     },
     "output_type": "display_data"
    }
   ],
   "source": [
    "plt.scatter(X_em[:,0], X_em[:,1], c = 'b', label = \"data\")\n",
    "for i in range(3):\n",
    "    plt.scatter(mu[i][0], mu[i][1],marker=\">\", label=i)\n",
    "plt.legend()\n",
    "plt.show()"
   ]
  }
 ],
 "metadata": {
  "kernelspec": {
   "display_name": "Python 3 (ipykernel)",
   "language": "python",
   "name": "python3"
  },
  "language_info": {
   "codemirror_mode": {
    "name": "ipython",
    "version": 3
   },
   "file_extension": ".py",
   "mimetype": "text/x-python",
   "name": "python",
   "nbconvert_exporter": "python",
   "pygments_lexer": "ipython3",
   "version": "3.6.9"
  }
 },
 "nbformat": 4,
 "nbformat_minor": 4
}
